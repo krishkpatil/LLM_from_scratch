{
  "nbformat": 4,
  "nbformat_minor": 0,
  "metadata": {
    "colab": {
      "provenance": [],
      "gpuType": "T4"
    },
    "kernelspec": {
      "name": "python3",
      "display_name": "Python 3"
    },
    "language_info": {
      "name": "python"
    },
    "accelerator": "GPU"
  },
  "cells": [
    {
      "cell_type": "code",
      "source": [
        "import torch\n",
        "\n",
        "# Assuming you have already loaded your text data into 'text'\n",
        "with open('wiz_of_oz.txt', 'r', encoding='utf-8') as f:\n",
        "    text = f.read()\n",
        "\n",
        "# Create the vocabulary\n",
        "chars = sorted(set(text))\n",
        "print(chars)\n",
        "vocab_size = len(chars)\n",
        "print(vocab_len)\n",
        "\n",
        "\n"
      ],
      "metadata": {
        "colab": {
          "base_uri": "https://localhost:8080/"
        },
        "id": "Wvj33Ted9czb",
        "outputId": "303e479e-947e-4d7c-e987-e8c1e1506062"
      },
      "execution_count": 20,
      "outputs": [
        {
          "output_type": "stream",
          "name": "stdout",
          "text": [
            "['\\n', ' ', '!', '&', '(', ')', ',', '-', '.', '0', '1', '9', ':', ';', '?', 'A', 'B', 'C', 'D', 'E', 'F', 'G', 'H', 'I', 'J', 'K', 'L', 'M', 'N', 'O', 'P', 'Q', 'R', 'S', 'T', 'U', 'V', 'W', 'X', 'Y', 'Z', 'a', 'b', 'c', 'd', 'e', 'f', 'g', 'h', 'i', 'j', 'k', 'l', 'm', 'n', 'o', 'p', 'q', 'r', 's', 't', 'u', 'v', 'w', 'x', 'y', 'z', '—', '‘', '’', '“', '”']\n",
            "72\n"
          ]
        }
      ]
    },
    {
      "cell_type": "code",
      "source": [
        "# Create mappings from character to integer and vice versa\n",
        "string_to_int = {ch: i for i, ch in enumerate(chars)}\n",
        "int_to_string = {i: ch for i, ch in enumerate(chars)}\n",
        "\n",
        "# Encoding and decoding functions\n",
        "encode = lambda s: [string_to_int[c] for c in s]\n",
        "decode = lambda l: ''.join([int_to_string[i] for i in l])\n",
        "\n",
        "# Encode the entire text data\n",
        "data = torch.tensor(encode(text), dtype=torch.long)\n",
        "print(data[:100])\n",
        "\n",
        "# Define hyperparameters\n",
        "block_size = 8  # Length of sequences for inputs\n",
        "batch_size = 4  # Number of sequences in a batch\n",
        "\n",
        "# Device configuration\n",
        "device = 'cuda' if torch.cuda.is_available() else 'cpu'\n",
        "\n",
        "# Split data into training and validation sets\n",
        "n = int(0.8 * len(data))\n",
        "train_data = data[:n]\n",
        "val_data = data[n:]\n",
        "\n",
        "# Function to get a batch of data\n",
        "def get_batch(split):\n",
        "    data = train_data if split == 'train' else val_data\n",
        "    ix = torch.randint(len(data) - block_size, (batch_size,))\n",
        "    x = torch.stack([data[i:i+block_size] for i in ix])\n",
        "    y = torch.stack([data[i+1:i+block_size+1] for i in ix])\n",
        "    x, y = x.to(device), y.to(device)\n",
        "    return x, y\n",
        "\n",
        "# Get a batch of training data\n",
        "x, y = get_batch('train')\n",
        "\n",
        "print('Inputs:')\n",
        "print(x)\n",
        "print('Targets:')\n",
        "print(y)"
      ],
      "metadata": {
        "colab": {
          "base_uri": "https://localhost:8080/"
        },
        "id": "nV5Nx9MPLT8b",
        "outputId": "43beb6d6-58e2-4e4e-b3c4-1f6a85af089d"
      },
      "execution_count": 21,
      "outputs": [
        {
          "output_type": "stream",
          "name": "stdout",
          "text": [
            "tensor([ 0, 34, 48, 45,  1, 37, 55, 54, 44, 45, 58, 46, 61, 52,  1, 37, 49, 66,\n",
            "        41, 58, 44,  1, 55, 46,  1, 29, 66,  0,  0, 42, 65,  1, 26,  8,  1, 20,\n",
            "        58, 41, 54, 51,  1, 16, 41, 61, 53,  0,  0,  0, 34, 48, 49, 59,  1, 42,\n",
            "        55, 55, 51,  1, 49, 59,  1, 44, 45, 44, 49, 43, 41, 60, 45, 44,  1, 60,\n",
            "        55,  1, 53, 65,  1, 47, 55, 55, 44,  1, 46, 58, 49, 45, 54, 44,  1,  3,\n",
            "         1, 43, 55, 53, 58, 41, 44, 45,  0, 27])\n",
            "Inputs:\n",
            "tensor([[55,  1, 41, 60,  0, 55, 54, 43],\n",
            "        [ 6,  0, 63, 48, 55,  1, 48, 41],\n",
            "        [ 0,  0, 33, 55,  1, 60, 48, 45],\n",
            "        [56, 55, 51, 45,  1, 60, 55,  0]], device='cuda:0')\n",
            "Targets:\n",
            "tensor([[ 1, 41, 60,  0, 55, 54, 43, 45],\n",
            "        [ 0, 63, 48, 55,  1, 48, 41, 44],\n",
            "        [ 0, 33, 55,  1, 60, 48, 45,  1],\n",
            "        [55, 51, 45,  1, 60, 55,  0, 48]], device='cuda:0')\n"
          ]
        }
      ]
    },
    {
      "cell_type": "code",
      "source": [
        "@torch.no_grad()\n",
        "def estimate_loss():\n",
        "    out = {}\n",
        "    model.eval()  # Set the model to evaluation mode\n",
        "    for split in ['train', 'val']:\n",
        "        losses = torch.zeros(eval_iters)  # Initialize an array to hold the loss values\n",
        "        for k in range(eval_iters):\n",
        "            X, Y = get_batch(split)  # Get a batch of input and target data\n",
        "            logits, loss = model(X, Y)  # Forward pass through the model\n",
        "            losses[k] = loss.item()  # Store the loss as a float\n",
        "        out[split] = losses.mean()  # Average the loss over eval_iters\n",
        "    model.train()  # Set the model back to training mode\n",
        "    return out\n"
      ],
      "metadata": {
        "id": "bScLIl3SZuzg"
      },
      "execution_count": 22,
      "outputs": []
    },
    {
      "cell_type": "code",
      "source": [
        "import torch\n",
        "import torch.nn as nn\n",
        "import torch.nn.functional as F\n",
        "\n",
        "# Define the BigramModel, inheriting from nn.Module\n",
        "class BigramLanguageModel(nn.Module):\n",
        "    def __init__(self, vocab_size):\n",
        "        super().__init__()\n",
        "        # The embedding table: Each token in the vocabulary is mapped to a vector of size vocab_size\n",
        "        self.token_embedding_table = nn.Embedding(vocab_size, vocab_size)\n",
        "\n",
        "    # This is the forward method, which will calculate logits (predictions) and loss\n",
        "    def forward(self, index, targets=None):\n",
        "        # Lookup the embeddings for the given indices (input tokens)\n",
        "        logits = self.token_embedding_table(index)  # Shape: [B, T, C] (Batch, Time, Vocab size)\n",
        "\n",
        "        # If targets are not provided, just return the logits (no loss calculation)\n",
        "        if targets is None:\n",
        "            loss = None\n",
        "        else:\n",
        "            # B = batch size, T = sequence length, C = vocab size (dimensions of the logits tensor)\n",
        "            B, T, C = logits.shape\n",
        "            # Reshape targets to be a single long vector (flattening batch and sequence dimensions)\n",
        "            targets = targets.view(B * T)\n",
        "            # Reshape logits similarly and calculate cross-entropy loss\n",
        "            loss = F.cross_entropy(logits.view(B * T, C), targets)\n",
        "\n",
        "        # Return the logits (for generating predictions) and the loss (for training with gradient descent)\n",
        "        return logits, loss\n",
        "\n",
        "    # This method generates new tokens based on a starting index (context)\n",
        "    def generate(self, index, max_new_tokens):\n",
        "        # Loop over the number of tokens you want to generate\n",
        "        for _ in range(max_new_tokens):\n",
        "            # Get predictions (logits) from the model for the current context\n",
        "            logits, _ = self.forward(index)  # We don't care about the loss in generation, so it's ignored\n",
        "\n",
        "            # Focus only on the last time step's logits (for predicting the next token)\n",
        "            logits = logits[:, -1, :]  # Shape: [B, C] (Last time step, Vocab size)\n",
        "\n",
        "            # Apply softmax to convert logits into probabilities (summing to 1)\n",
        "            probs = F.softmax(logits, dim=-1)  # Shape: [B, C] (Batch, Vocab size)\n",
        "\n",
        "            # Sample a token from the probability distribution (this gives us the next token)\n",
        "            index_next = torch.multinomial(probs, num_samples=1)  # Shape: [B, 1] (Next token)\n",
        "\n",
        "            # Append the sampled token to the existing sequence (context), expanding the input\n",
        "            index = torch.cat((index, index_next), dim=1)  # Shape: [B, T+1] (Add next token to sequence)\n",
        "\n",
        "        # Return the full generated sequence, including the original context and all new tokens\n",
        "        return index\n",
        "\n",
        "model = BigramLanguageModel(vocab_size)\n",
        "\n",
        "# Step 2: Move the model to the appropriate device (GPU if available, otherwise CPU)\n",
        "device = 'cuda' if torch.cuda.is_available() else 'cpu'\n",
        "model = model.to(device)\n",
        "\n",
        "# Step 3: Start with an initial context (a single token, represented as index 0 here)\n",
        "context = torch.zeros((1, 1), dtype=torch.long).to(device)  # Start with a single token in the context\n",
        "\n",
        "# Step 4: Use the model to generate 50 new tokens based on the context\n",
        "generated_tokens = decode(model.generate(context, max_new_tokens=500)[0].tolist())\n",
        "\n",
        "print(generated_tokens)"
      ],
      "metadata": {
        "id": "d7aMiuRpFXHV",
        "colab": {
          "base_uri": "https://localhost:8080/"
        },
        "outputId": "6465213b-1d97-4dba-b0d6-91722f2400f7"
      },
      "execution_count": 23,
      "outputs": [
        {
          "output_type": "stream",
          "name": "stdout",
          "text": [
            "\n",
            "&pP1:EHrdu—PqNi—roMxn\n",
            "&VPybAPnM“W’—”cKRlToz?alN.h\n",
            "lVaDXUJX&&S;-r\n",
            "-j.“J&”HtW:(M;&C:9zr “tAiGR9mgrT.uKOQ.AftmggdtMZKS\n",
            "N-0(bJdFz-”dQauTauqY,(9k.rqtLK0Qxnj1—S—er1b ‘,9hm)nMpEFRwyO9l;\n",
            ")uy&cs1psrV:NLaWy;zRIJWwsP‘&nMqVh\n",
            "D w&JXFZaV,,’ftrmgHmkMI9rHVBxHZUGI;VY’0tW!O0Bsr!FbAhmqZqrmLFzk.R9,!wsNVK;,SLSRG” WzM?kNzfGZ!!J(zVVqRa”(1iNCY;Yk:mmmLnycsP&CfMv“X E,fPgSj—WOTpe”1YrG!-xp?a”pJXxilO)zCrHCVqrqs9kID WoMSqfiPeej!lTa—BXTk.w-uKgWjOTFZCUlurq”k.ur)oEvHQ—!-:,auh1e-D!Y I!fyC&xt:le9VHgHUrO,,’ErHTv0i-”EzbAuTZm wairHr\n"
          ]
        }
      ]
    },
    {
      "cell_type": "code",
      "source": [
        "eval_iters = 2500\n",
        "\n",
        "# create a PyTorch optimizer\n",
        "optimizer = torch.optim.AdamW(model.parameters(), lr=learning_rate)\n",
        "\n",
        "for iter in range(max_iters):\n",
        "    if iter % eval_iters == 0:\n",
        "        losses = estimate_loss()\n",
        "        print(f\"step: {iter}, train loss: {losses['train']:.4f}, val loss: {losses['val']:.4f}\")\n",
        "\n",
        "    # sample a batch of data\n",
        "    xb, yb = get_batch('train')\n",
        "\n",
        "    # evaluate the loss\n",
        "    logits, loss = model.forward(xb, yb)\n",
        "    optimizer.zero_grad(set_to_none=True)\n",
        "    loss.backward()\n",
        "    optimizer.step()\n",
        "\n",
        "print(loss.item())\n"
      ],
      "metadata": {
        "id": "rtvakwhsSmPo",
        "colab": {
          "base_uri": "https://localhost:8080/"
        },
        "outputId": "226455fc-214b-499f-a6cb-d3b3ddf45f0d"
      },
      "execution_count": 25,
      "outputs": [
        {
          "output_type": "stream",
          "name": "stdout",
          "text": [
            "step: 0, train loss: 3.0436, val loss: 3.0406\n",
            "step: 2500, train loss: 2.8336, val loss: 2.8307\n",
            "step: 5000, train loss: 2.6943, val loss: 2.6960\n",
            "step: 7500, train loss: 2.5984, val loss: 2.6168\n",
            "2.760890007019043\n"
          ]
        }
      ]
    },
    {
      "cell_type": "code",
      "source": [
        ""
      ],
      "metadata": {
        "id": "UD9BODIZVFeR"
      },
      "execution_count": 24,
      "outputs": []
    }
  ]
}